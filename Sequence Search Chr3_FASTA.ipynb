{
 "cells": [
  {
   "cell_type": "code",
   "execution_count": 1,
   "metadata": {},
   "outputs": [
    {
     "name": "stdout",
     "output_type": "stream",
     "text": [
      "3965913\n",
      "<class 'list'>\n"
     ]
    }
   ],
   "source": [
    "afile = open(\"C:\\\\Users\\\\Sanchit\\\\Desktop\\\\IGIB\\\\chr3.fa\", \"r\")   #open the file\n",
    "bfile = afile.readlines()                                         #read as a list with lines as elements\n",
    "print(len(bfile))\n",
    "print(type(bfile))"
   ]
  },
  {
   "cell_type": "code",
   "execution_count": 2,
   "metadata": {},
   "outputs": [
    {
     "name": "stdout",
     "output_type": "stream",
     "text": [
      "Please Enter the sequence you would like to search and count:CAT\n",
      "Number of lines with zero occurances: 1616741\n",
      "Number of lines with more than 10 occurances: 22\n",
      "Number of lines with less than 10 occurances: 2349127\n",
      "Number of lines with exactly 10 occurances: 23\n",
      "3965913\n",
      "3965913\n"
     ]
    }
   ],
   "source": [
    "def sequence_search(tag):\n",
    "    no_occurances = 0\n",
    "    less_than_10 = 0\n",
    "    more_than_10 = 0\n",
    "    exactly_10 = 0\n",
    "    for index in range(len(bfile)):\n",
    "        y = bfile[index].upper()\n",
    "        x = y.count(tag)\n",
    "        if x == 0:\n",
    "            no_occurances = no_occurances +1\n",
    "        elif x < 10:\n",
    "            less_than_10 = less_than_10 +1\n",
    "        elif x > 10:\n",
    "            more_than_10 = more_than_10 +1\n",
    "        elif x==10:\n",
    "            exactly_10 = exactly_10 +1\n",
    "    print(\"Number of lines with zero occurances:\",no_occurances)\n",
    "    print(\"Number of lines with more than 10 occurances:\",more_than_10)\n",
    "    print(\"Number of lines with less than 10 occurances:\",less_than_10)\n",
    "    print(\"Number of lines with exactly 10 occurances:\",exactly_10)\n",
    "    print(no_occurances + less_than_10 + more_than_10 + exactly_10)\n",
    "    print(len(bfile))\n",
    "query = input(\"Please Enter the sequence you would like to search and count:\")\n",
    "sequence_search(query)"
   ]
  },
  {
   "cell_type": "code",
   "execution_count": null,
   "metadata": {},
   "outputs": [],
   "source": []
  }
 ],
 "metadata": {
  "kernelspec": {
   "display_name": "Python 3",
   "language": "python",
   "name": "python3"
  },
  "language_info": {
   "codemirror_mode": {
    "name": "ipython",
    "version": 3
   },
   "file_extension": ".py",
   "mimetype": "text/x-python",
   "name": "python",
   "nbconvert_exporter": "python",
   "pygments_lexer": "ipython3",
   "version": "3.7.3"
  }
 },
 "nbformat": 4,
 "nbformat_minor": 2
}
